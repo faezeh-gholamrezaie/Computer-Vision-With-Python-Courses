{
  "nbformat": 4,
  "nbformat_minor": 0,
  "metadata": {
    "colab": {
      "provenance": []
    },
    "kernelspec": {
      "name": "python3",
      "display_name": "Python 3"
    },
    "language_info": {
      "name": "python"
    }
  },
  "cells": [
    {
      "cell_type": "code",
      "source": [
        "import numpy as np\n",
        "\n",
        "# Define two tensors (2D arrays)\n",
        "tensor_a = np.array([[1, 2, 3],\n",
        "                      [4, 5, 6]])\n",
        "\n",
        "tensor_b = np.array([[7, 8, 9],\n",
        "                      [10, 11, 12]])"
      ],
      "metadata": {
        "id": "5BNgskxhn0j4"
      },
      "execution_count": null,
      "outputs": []
    },
    {
      "cell_type": "code",
      "source": [
        "# Element-wise addition\n",
        "addition = tensor_a + tensor_b\n",
        "print(f\"{'Tensor A':^10} + {'Tensor B':^10} = {'Addition':^10}\")\n",
        "print(f\"{tensor_a}\\n + \\n{tensor_b}\\n = \\n{addition}\\n\")"
      ],
      "metadata": {
        "colab": {
          "base_uri": "https://localhost:8080/"
        },
        "id": "Esl0HN-unctO",
        "outputId": "2c8bc21b-8279-4659-e706-60742db72ccb"
      },
      "execution_count": 5,
      "outputs": [
        {
          "output_type": "stream",
          "name": "stdout",
          "text": [
            " Tensor A  +  Tensor B  =  Addition \n",
            "[[1 2 3]\n",
            " [4 5 6]]\n",
            " + \n",
            "[[ 7  8  9]\n",
            " [10 11 12]]\n",
            " = \n",
            "[[ 8 10 12]\n",
            " [14 16 18]]\n",
            "\n"
          ]
        }
      ]
    },
    {
      "cell_type": "code",
      "source": [
        "# Element-wise subtraction\n",
        "subtraction = tensor_a - tensor_b\n",
        "print(f\"{'Tensor A':^10} - {'Tensor B':^10} = {'Subtraction':^10}\")\n",
        "print(f\"{tensor_a}\\n - \\n{tensor_b}\\n = \\n{subtraction}\\n\")"
      ],
      "metadata": {
        "colab": {
          "base_uri": "https://localhost:8080/"
        },
        "id": "unkPapD5nk-B",
        "outputId": "1e201efc-0849-4e3d-e3ca-6b7054628f6c"
      },
      "execution_count": 6,
      "outputs": [
        {
          "output_type": "stream",
          "name": "stdout",
          "text": [
            " Tensor A  -  Tensor B  = Subtraction\n",
            "[[1 2 3]\n",
            " [4 5 6]]\n",
            " - \n",
            "[[ 7  8  9]\n",
            " [10 11 12]]\n",
            " = \n",
            "[[-6 -6 -6]\n",
            " [-6 -6 -6]]\n",
            "\n"
          ]
        }
      ]
    },
    {
      "cell_type": "code",
      "source": [
        "# Element-wise multiplication\n",
        "multiplication = tensor_a * tensor_b\n",
        "print(f\"{'Tensor A':^10} * {'Tensor B':^10} = {'Multiplication':^10}\")\n",
        "print(f\"{tensor_a}\\n * \\n{tensor_b}\\n = \\n{multiplication}\\n\")"
      ],
      "metadata": {
        "colab": {
          "base_uri": "https://localhost:8080/"
        },
        "id": "E33BGupWnou8",
        "outputId": "35094e55-fb3a-4618-eb33-2d70b3bfd040"
      },
      "execution_count": 7,
      "outputs": [
        {
          "output_type": "stream",
          "name": "stdout",
          "text": [
            " Tensor A  *  Tensor B  = Multiplication\n",
            "[[1 2 3]\n",
            " [4 5 6]]\n",
            " * \n",
            "[[ 7  8  9]\n",
            " [10 11 12]]\n",
            " = \n",
            "[[ 7 16 27]\n",
            " [40 55 72]]\n",
            "\n"
          ]
        }
      ]
    },
    {
      "cell_type": "code",
      "source": [
        "# Element-wise division\n",
        "division = tensor_a / tensor_b\n",
        "print(f\"{'Tensor A':^10} / {'Tensor B':^10} = {'Division':^10}\")\n",
        "print(f\"{tensor_a}\\n / \\n{tensor_b}\\n = \\n{division}\\n\")"
      ],
      "metadata": {
        "colab": {
          "base_uri": "https://localhost:8080/"
        },
        "id": "EVMu6d4-nvGq",
        "outputId": "5c8144f1-a70b-4c16-d846-32f54f28ca15"
      },
      "execution_count": 8,
      "outputs": [
        {
          "output_type": "stream",
          "name": "stdout",
          "text": [
            " Tensor A  /  Tensor B  =  Division \n",
            "[[1 2 3]\n",
            " [4 5 6]]\n",
            " / \n",
            "[[ 7  8  9]\n",
            " [10 11 12]]\n",
            " = \n",
            "[[0.14285714 0.25       0.33333333]\n",
            " [0.4        0.45454545 0.5       ]]\n",
            "\n"
          ]
        }
      ]
    }
  ]
}