{
  "nbformat": 4,
  "nbformat_minor": 0,
  "metadata": {
    "colab": {
      "provenance": []
    },
    "kernelspec": {
      "name": "python3",
      "display_name": "Python 3"
    },
    "language_info": {
      "name": "python"
    }
  },
  "cells": [
    {
      "cell_type": "code",
      "source": [
        "import numpy as np\n",
        "\n",
        "# Define two tensors (2D arrays)\n",
        "tensor_a = np.array([[1, 2, 3],\n",
        "                      [4, 5, 6]])\n",
        "\n",
        "tensor_b = np.array([[7, 8, 9],\n",
        "                      [10, 11, 12]])"
      ],
      "metadata": {
        "id": "5BNgskxhn0j4"
      },
      "execution_count": 9,
      "outputs": []
    },
    {
      "cell_type": "code",
      "source": [
        "# Element-wise Boolean Comparisons\n",
        "equal = tensor_a == tensor_b\n",
        "\n",
        "# Print the results\n",
        "print(\"Element-wise equality:\\n\", equal)"
      ],
      "metadata": {
        "colab": {
          "base_uri": "https://localhost:8080/"
        },
        "id": "FCRD7JkJp5Wm",
        "outputId": "31882a08-d888-4af7-a7a4-cb4b0ae7fb48"
      },
      "execution_count": 11,
      "outputs": [
        {
          "output_type": "stream",
          "name": "stdout",
          "text": [
            "Element-wise equality:\n",
            " [[False False False]\n",
            " [False False False]]\n"
          ]
        }
      ]
    },
    {
      "cell_type": "code",
      "source": [
        "# Element-wise Boolean Comparisons\n",
        "not_equal = tensor_a != tensor_b\n",
        "\n",
        "# Print the results\n",
        "print(\"\\nElement-wise inequality:\\n\", not_equal)"
      ],
      "metadata": {
        "colab": {
          "base_uri": "https://localhost:8080/"
        },
        "id": "kFllEkhSp7II",
        "outputId": "4457e394-f6f9-4cfa-f135-f2f62c7e022c"
      },
      "execution_count": 12,
      "outputs": [
        {
          "output_type": "stream",
          "name": "stdout",
          "text": [
            "\n",
            "Element-wise inequality:\n",
            " [[ True  True  True]\n",
            " [ True  True  True]]\n"
          ]
        }
      ]
    },
    {
      "cell_type": "code",
      "source": [
        "# Element-wise Boolean Comparisons\n",
        "greater_than = tensor_a > tensor_b\n",
        "\n",
        "# Print the results\n",
        "print(\"\\nElement-wise greater than:\\n\", greater_than)"
      ],
      "metadata": {
        "colab": {
          "base_uri": "https://localhost:8080/"
        },
        "id": "a6bG2S11qEiI",
        "outputId": "a7c57cc1-9875-4f5b-f8ab-35fd73198499"
      },
      "execution_count": 13,
      "outputs": [
        {
          "output_type": "stream",
          "name": "stdout",
          "text": [
            "\n",
            "Element-wise greater than:\n",
            " [[False False False]\n",
            " [False False False]]\n"
          ]
        }
      ]
    },
    {
      "cell_type": "code",
      "source": [
        "# Element-wise Boolean Comparisons\n",
        "less_than = tensor_a < tensor_b\n",
        "\n",
        "# Print the results\n",
        "print(\"\\nElement-wise less than:\\n\", less_than)"
      ],
      "metadata": {
        "colab": {
          "base_uri": "https://localhost:8080/"
        },
        "id": "vfbPKTomqJCt",
        "outputId": "528ef8f6-e63c-4dd7-96f4-4bb632337e8c"
      },
      "execution_count": 14,
      "outputs": [
        {
          "output_type": "stream",
          "name": "stdout",
          "text": [
            "\n",
            "Element-wise less than:\n",
            " [[ True  True  True]\n",
            " [ True  True  True]]\n"
          ]
        }
      ]
    },
    {
      "cell_type": "code",
      "source": [
        "# Element-wise Boolean Comparisons\n",
        "greater_than_equal = tensor_a >= tensor_b\n",
        "\n",
        "# Print the results\n",
        "print(\"\\nElement-wise greater than or equal to:\\n\", greater_than_equal)"
      ],
      "metadata": {
        "colab": {
          "base_uri": "https://localhost:8080/"
        },
        "id": "aZfaeIKZqP5R",
        "outputId": "c2766422-1649-440c-a1f5-ba6cd900ba6b"
      },
      "execution_count": 15,
      "outputs": [
        {
          "output_type": "stream",
          "name": "stdout",
          "text": [
            "\n",
            "Element-wise greater than or equal to:\n",
            " [[False False False]\n",
            " [False False False]]\n"
          ]
        }
      ]
    },
    {
      "cell_type": "code",
      "source": [
        "# Element-wise Boolean Comparisons\n",
        "less_than_equal = tensor_a <= tensor_b\n",
        "\n",
        "# Print the results\n",
        "print(\"\\nElement-wise less than or equal to:\\n\", less_than_equal)"
      ],
      "metadata": {
        "colab": {
          "base_uri": "https://localhost:8080/"
        },
        "id": "JKj5Xd8IqUYp",
        "outputId": "992fff92-1b02-402b-dcb6-a2f245964460"
      },
      "execution_count": 16,
      "outputs": [
        {
          "output_type": "stream",
          "name": "stdout",
          "text": [
            "\n",
            "Element-wise less than or equal to:\n",
            " [[ True  True  True]\n",
            " [ True  True  True]]\n"
          ]
        }
      ]
    }
  ]
}